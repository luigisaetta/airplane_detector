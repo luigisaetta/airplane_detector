{
 "cells": [
  {
   "cell_type": "markdown",
   "id": "4d71893f",
   "metadata": {},
   "source": [
    "### Extract frames from video"
   ]
  },
  {
   "cell_type": "code",
   "execution_count": 1,
   "id": "2ca5691d",
   "metadata": {},
   "outputs": [],
   "source": [
    "from os import path\n",
    "import cv2"
   ]
  },
  {
   "cell_type": "code",
   "execution_count": 2,
   "id": "98edf665",
   "metadata": {},
   "outputs": [],
   "source": [
    "# input video pathname\n",
    "VIDEO_PATH = \"./mixkit-plane-taking-off_bb.mp4\"\n",
    "\n",
    "# the dir where frames will be saved\n",
    "SAVE_DIR = \"extracted_frames2\"\n",
    "\n",
    "# the prefix used for frame files names\n",
    "IMG_NAME_PREFIX = \"jet_frame2_\""
   ]
  },
  {
   "cell_type": "code",
   "execution_count": 3,
   "id": "032b5616",
   "metadata": {},
   "outputs": [
    {
     "name": "stdout",
     "output_type": "stream",
     "text": [
      "\n",
      "Total frames extracted: 305\n",
      "\n",
      "CPU times: user 4.46 s, sys: 80.1 ms, total: 4.54 s\n",
      "Wall time: 4.26 s\n"
     ]
    }
   ],
   "source": [
    "%%time\n",
    "video = cv2.VideoCapture(VIDEO_PATH)\n",
    "\n",
    "count = 0\n",
    "ret, frame = video.read()\n",
    "\n",
    "while ret:\n",
    "    count += 1\n",
    "\n",
    "    # save the frame, builds dinamycally the files names\n",
    "    cv2.imwrite(path.join(SAVE_DIR, f\"{IMG_NAME_PREFIX}{count:05d}.jpg\"), frame)\n",
    "\n",
    "    ret, frame = video.read()\n",
    "\n",
    "print()\n",
    "print(f\"Total frames extracted: {count}\")\n",
    "print()"
   ]
  },
  {
   "cell_type": "code",
   "execution_count": 4,
   "id": "b8567fb7",
   "metadata": {},
   "outputs": [
    {
     "name": "stdout",
     "output_type": "stream",
     "text": [
      "Frames per second = 60.0\n"
     ]
    }
   ],
   "source": [
    "fps = video.get(cv2.CAP_PROP_FPS)\n",
    "print(\"Frames per second =\", round(fps, 1))"
   ]
  },
  {
   "cell_type": "code",
   "execution_count": null,
   "id": "153d9f55",
   "metadata": {},
   "outputs": [],
   "source": []
  }
 ],
 "metadata": {
  "kernelspec": {
   "display_name": "Python [conda env:airplane_detection_env_v2_0]",
   "language": "python",
   "name": "conda-env-airplane_detection_env_v2_0-py"
  },
  "language_info": {
   "codemirror_mode": {
    "name": "ipython",
    "version": 3
   },
   "file_extension": ".py",
   "mimetype": "text/x-python",
   "name": "python",
   "nbconvert_exporter": "python",
   "pygments_lexer": "ipython3",
   "version": "3.9.16"
  }
 },
 "nbformat": 4,
 "nbformat_minor": 5
}
